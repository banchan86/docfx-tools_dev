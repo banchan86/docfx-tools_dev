{
 "cells": [
  {
   "cell_type": "code",
   "execution_count": 2,
   "metadata": {},
   "outputs": [],
   "source": [
    "# code based on comparing bonsai.gui docfx.json file to a fresh docfx.json (updated 4/27/24)\n",
    "import json\n",
    "import os"
   ]
  },
  {
   "cell_type": "code",
   "execution_count": 3,
   "metadata": {},
   "outputs": [],
   "source": [
    "# define folder constants\n",
    "current_dir = os.getcwd()\n",
    "root_dir = os.path.dirname(os.path.dirname(os.path.dirname(current_dir)))\n",
    "docs_dir = os.path.join(root_dir,\"docs\")"
   ]
  },
  {
   "cell_type": "code",
   "execution_count": null,
   "metadata": {},
   "outputs": [],
   "source": [
    "# load json file\n",
    "try:\n",
    "    with open(os.path.join(docs_dir, \"docfx.json\"), 'r') as file:\n",
    "        data = json.load(file)\n",
    "except FileNotFoundError:\n",
    "    print(\"docfx.json not file, run docfx first to create docfx.json file\")"
   ]
  },
  {
   "cell_type": "code",
   "execution_count": 1,
   "metadata": {},
   "outputs": [],
   "source": [
    "# prompt for github website\n",
    "github_link = input(\"Please enter the github website\")"
   ]
  },
  {
   "cell_type": "code",
   "execution_count": null,
   "metadata": {},
   "outputs": [],
   "source": [
    "# prompt for package name\n",
    "package_name = input(\"Please enter the package name for the website - for instance ML for Bonsai.ML\")"
   ]
  },
  {
   "cell_type": "code",
   "execution_count": null,
   "metadata": {},
   "outputs": [],
   "source": [
    "# adds filter .yml to metadata build\n",
    "# the structure in the attributes is a bit weird, its a dictionary in a list, so the index [0] is just calling up that dictionary\n",
    "data[\"metadata\"][0][\"filter\"] = \"filter.yml\"\n"
   ]
  },
  {
   "cell_type": "code",
   "execution_count": null,
   "metadata": {},
   "outputs": [],
   "source": [
    "# adds files and folders to be excluded from site building\n",
    "if \"filter.yml\" in data[\"build\"][\"content\"][0][\"exclude\"]:\n",
    "    pass\n",
    "else:\n",
    "    data[\"build\"][\"content\"][0][\"exclude\"].extend([\"filter.yml\"])\n",
    "                                                  \n",
    "if \"bonsai/**\" in data[\"build\"][\"content\"][0][\"exclude\"]:\n",
    "    pass\n",
    "else:\n",
    "    data[\"build\"][\"content\"][0][\"exclude\"].extend([\"bonsai/**\"])"
   ]
  },
  {
   "cell_type": "code",
   "execution_count": null,
   "metadata": {},
   "outputs": [],
   "source": [
    "# adds site resources\n",
    "if \"workflows/**\" in data[\"build\"][\"resource\"][0][\"files\"]:\n",
    "    pass\n",
    "else: \n",
    "    data[\"build\"][\"resource\"][0][\"files\"].extend([\"workflows/**\"])\n",
    "    \n",
    "if \"logo.svg\" in data[\"build\"][\"resource\"][0][\"files\"]:\n",
    "    pass\n",
    "else: \n",
    "    data[\"build\"][\"resource\"][0][\"files\"].extend([\"logo.svg\"])\n",
    "\n",
    "if \"favicon.ico\" in data[\"build\"][\"resource\"][0][\"files\"]:\n",
    "    pass\n",
    "else: \n",
    "    data[\"build\"][\"resource\"][0][\"files\"].extend([\"favicon.ico\"])"
   ]
  },
  {
   "cell_type": "code",
   "execution_count": null,
   "metadata": {},
   "outputs": [],
   "source": [
    "# adds overwrite section\n",
    "# data[\"build\"][\"overwrite\"][0] = {\"files\":[\"apidoc/**.md\"], \n",
    "#                                  \"exclude\": [\"obj/**\", \"_site/**\"]}\n",
    "\n",
    "data[\"build\"][\"overwrite\"] = [{\"files\":[\"apidoc/**.md\"], \n",
    "                                 \"exclude\": [\"obj/**\", \"_site/**\"]}]"
   ]
  },
  {
   "cell_type": "code",
   "execution_count": null,
   "metadata": {},
   "outputs": [],
   "source": [
    "# adds bonsai templates \n",
    "if \"bonsai/template\" in data[\"build\"][\"template\"]:\n",
    "    pass\n",
    "else:\n",
    "    data[\"build\"][\"template\"].extend(\"bonsai/template\")\n",
    "    \n",
    "if \"template\" in data[\"build\"][\"template\"]:\n",
    "    pass\n",
    "else:\n",
    "    data[\"build\"][\"template\"].extend(\"template\")"
   ]
  },
  {
   "cell_type": "code",
   "execution_count": null,
   "metadata": {},
   "outputs": [],
   "source": [
    "# adds app name and website\n",
    "data[\"build\"][\"globalMetadata\"][\"_appName\"] = \"Bonsai - \" + package_name\n",
    "data[\"build\"][\"globalMetadata\"][\"_appTitle\"] = \"Bonsai.\" + package_name"
   ]
  },
  {
   "cell_type": "code",
   "execution_count": null,
   "metadata": {},
   "outputs": [],
   "source": [
    "# adds site footer\n",
    "data[\"build\"][\"globalMetadata\"][\"_appFooter\"] = \"&copy; 2024 Bonsai Foundation CIC and Contributors. Made with <a href=\\\"https://dotnet.github.io/docfx\\\">docfx</a>\""
   ]
  },
  {
   "cell_type": "code",
   "execution_count": null,
   "metadata": {},
   "outputs": [],
   "source": [
    "# adds git contribute section\n",
    "data[\"build\"][\"globalMetadata\"][\"_gitContribute\"] = {\"repo\": github_link, \n",
    "                                                     \"branch\": \"main\", \n",
    "                                                     \"apiSpecFolder\": \"apidoc\"}"
   ]
  },
  {
   "cell_type": "code",
   "execution_count": null,
   "metadata": {},
   "outputs": [],
   "source": [
    "# adds markdig extensions\n",
    "data[\"build\"][\"markdownEngineProperties\"] = {\"markdigExtensions\": [\"attributes\",\n",
    "                                                                   \"customcontainers\"]}"
   ]
  },
  {
   "cell_type": "code",
   "execution_count": null,
   "metadata": {},
   "outputs": [],
   "source": [
    "# adds xref \n",
    "data[\"build\"][\"xref\"] = [\"https://bonsai-rx.org/docs/xrefmap.yml\",\n",
    "                         \"https://horizongir.github.io/reactive/xrefmap.yml\"]"
   ]
  },
  {
   "cell_type": "code",
   "execution_count": null,
   "metadata": {},
   "outputs": [],
   "source": [
    "# write json file\n",
    "with open(os.path.join(docs_dir, \"docfx.json\"), 'w') as file:\n",
    "    json.dump(data, file, indent=2)"
   ]
  }
 ],
 "metadata": {
  "kernelspec": {
   "display_name": "base",
   "language": "python",
   "name": "python3"
  },
  "language_info": {
   "codemirror_mode": {
    "name": "ipython",
    "version": 3
   },
   "file_extension": ".py",
   "mimetype": "text/x-python",
   "name": "python",
   "nbconvert_exporter": "python",
   "pygments_lexer": "ipython3",
   "version": "3.11.7"
  }
 },
 "nbformat": 4,
 "nbformat_minor": 2
}
