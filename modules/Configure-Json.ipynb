{
 "cells": [
  {
   "cell_type": "code",
   "execution_count": 2,
   "metadata": {},
   "outputs": [],
   "source": [
    "import json\n",
    "import os"
   ]
  },
  {
   "cell_type": "code",
   "execution_count": 3,
   "metadata": {},
   "outputs": [],
   "source": [
    "# define folder constants\n",
    "current_dir = os.getcwd()\n",
    "root_dir = os.path.dirname(os.path.dirname(os.path.dirname(current_dir)))\n",
    "docs_dir = os.path.join(root_dir,\"docs\")"
   ]
  },
  {
   "cell_type": "code",
   "execution_count": null,
   "metadata": {},
   "outputs": [],
   "source": [
    "# load json file\n",
    "try:\n",
    "    with open(os.path.join(docs_dir, \"docfx.json\"), 'r') as file:\n",
    "        data = json.load(file)\n",
    "except FileNotFoundError:\n",
    "    print(\"docfx.json not file, run docfx first to create docfx.json file\")"
   ]
  },
  {
   "cell_type": "code",
   "execution_count": null,
   "metadata": {},
   "outputs": [],
   "source": [
    "# adds filter .yml\n",
    "# the structure in that attribute is a bit weird, its a dictionary in a list, so the index [0] is just calling up that dictionary\n",
    "data[\"metadata\"][0][\"filter\"] = \"filter.yml\""
   ]
  },
  {
   "cell_type": "code",
   "execution_count": null,
   "metadata": {},
   "outputs": [],
   "source": [
    "# adds bonsai templates \n",
    "data[\"build\"][\"template\"].extend([\"bonsai/template\",\"template\"])"
   ]
  },
  {
   "cell_type": "code",
   "execution_count": null,
   "metadata": {},
   "outputs": [],
   "source": [
    "# adds markdig extensions\n",
    "data[\"build\"][\"markdownEngineProperties\"] = {\"markdigExtensions\": [\"attributes\",\"customcontainers\"]}"
   ]
  },
  {
   "cell_type": "code",
   "execution_count": null,
   "metadata": {},
   "outputs": [],
   "source": [
    "# adds xref \n",
    "data[\"build\"][\"xref\"] = [\"https://bonsai-rx.org/docs/xrefmap.yml\",\"https://horizongir.github.io/reactive/xrefmap.yml\"]"
   ]
  },
  {
   "cell_type": "code",
   "execution_count": null,
   "metadata": {},
   "outputs": [],
   "source": [
    "# write json file\n",
    "with open(os.path.join(docs_dir, \"docfx.json\"), 'w') as file:\n",
    "    json.dump(data, file, indent=1)"
   ]
  }
 ],
 "metadata": {
  "kernelspec": {
   "display_name": "base",
   "language": "python",
   "name": "python3"
  },
  "language_info": {
   "codemirror_mode": {
    "name": "ipython",
    "version": 3
   },
   "file_extension": ".py",
   "mimetype": "text/x-python",
   "name": "python",
   "nbconvert_exporter": "python",
   "pygments_lexer": "ipython3",
   "version": "3.11.7"
  }
 },
 "nbformat": 4,
 "nbformat_minor": 2
}
