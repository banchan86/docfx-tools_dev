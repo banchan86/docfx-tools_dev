{
 "cells": [
  {
   "cell_type": "code",
   "execution_count": 1,
   "metadata": {},
   "outputs": [],
   "source": [
    "# import libraries\n",
    "import os"
   ]
  },
  {
   "cell_type": "code",
   "execution_count": 43,
   "metadata": {},
   "outputs": [],
   "source": [
    "# function to extract operator names, location, and namespace from a given source folder\n",
    "def extract_operator_names_location_namespace(directory):\n",
    "    file_list = []\n",
    "    operator_list = []\n",
    "    namespace_list = []\n",
    "    property_list = []\n",
    "    for root, dirs, files in os.walk(directory):\n",
    "        for file in files:\n",
    "            if file.endswith(\"cs\"):\n",
    "                # skips .cs files in debug and release folder that arent Bonsai operators\n",
    "                # some operators (for instance NumpyHelper and TimeSeriesOxyPlotBase) do not show up in API docs but nsure why\n",
    "                if \"Release\" not in root:\n",
    "                    if \"Debug\" not in root:\n",
    "                        if \"Properties\" not in root:\n",
    "                            operator_property_list = []\n",
    "                            file_list.append(os.path.join(root, file))\n",
    "                            operator_list.append(file[:-3])\n",
    "                            with open(os.path.join(root, file), 'r') as cs_file:\n",
    "                                # Read the file line by line\n",
    "                                for line in cs_file:\n",
    "                                    # Check if the line contains a namespace declaration\n",
    "                                    if \"namespace\" in line:\n",
    "                                        # Extract the namespace from the line, strips bracket if any\n",
    "                                        namespace = line.strip().split(\" \")[1]\n",
    "                                        namespace_list.append(namespace)\n",
    "                                        # Stop searching after finding the namespace declaration (add it back in if property extraction is not needed)\n",
    "                                        # break  \n",
    "                                    # this \"hackety\" approach relies on finding all public declarations and omitting certain declarations\n",
    "                                    # the alternative approach of finding positive declaration fails because some properties are declared with package specific components \n",
    "                                    # example of previous approach: elif line.strip().startswith((\"public string\",\"public TypeMapping\", \"public double\", \"public StateComponent\")):\n",
    "                                        \n",
    "                                    # this method was tested on machine learning docs \n",
    "                                    elif line.strip().startswith(\"public\"):\n",
    "                                        if \"class\" in line:\n",
    "                                            pass\n",
    "                                        elif \"()\" in line:\n",
    "                                            pass\n",
    "                                        elif \"Process\" in line:\n",
    "                                            pass\n",
    "                                        elif \"override\" in line:\n",
    "                                            pass\n",
    "                                        elif \"Event\" in line:\n",
    "                                            pass\n",
    "                                        elif \"static\" in line:\n",
    "                                            pass\n",
    "                                        elif \"readonly\" in line:\n",
    "                                            pass\n",
    "                                        elif \"PyObject\" in line:\n",
    "                                            pass\n",
    "                                        elif \"(string\" in line:\n",
    "                                            pass\n",
    "                                        elif \"(double\" in line:\n",
    "                                            pass\n",
    "                                        elif \"void\" in line:\n",
    "                                            pass\n",
    "                                        else:\n",
    "                                            property = line.strip().split(\" \")[2]\n",
    "                                            operator_property_list.append(property)\n",
    "                            property_list.append(operator_property_list) \n",
    "    operator_dictionary = {operator_list[i]: [file_list[i],namespace_list[i],property_list[i]] for i in range(len(file_list))}\n",
    "    return operator_dictionary"
   ]
  },
  {
   "cell_type": "code",
   "execution_count": 44,
   "metadata": {},
   "outputs": [],
   "source": [
    "# define folder constants\n",
    "current_dir = os.getcwd()\n",
    "root_dir = os.path.dirname(os.path.dirname(os.path.dirname(current_dir)))\n",
    "docs_dir = os.path.join(root_dir,\"docs\")\n",
    "src_dir = os.path.join(root_dir, \"src\")"
   ]
  },
  {
   "cell_type": "code",
   "execution_count": 45,
   "metadata": {},
   "outputs": [],
   "source": [
    "# extract operator dictionary containing operator name as a key and a tuple value with location and namespace)\n",
    "operator_dictionary = extract_operator_names_location_namespace(src_dir)"
   ]
  },
  {
   "cell_type": "code",
   "execution_count": 46,
   "metadata": {},
   "outputs": [
    {
     "name": "stdout",
     "output_type": "stream",
     "text": [
      "ChannelTriggers ['c:\\\\Users\\\\shawn\\\\Desktop\\\\pulsepal_docs_rev\\\\src\\\\Bonsai.PulsePal\\\\ChannelTriggers.cs', 'Bonsai.PulsePal', ['ChannelTriggers']]\n",
      "CombinatorTypeConverter ['c:\\\\Users\\\\shawn\\\\Desktop\\\\pulsepal_docs_rev\\\\src\\\\Bonsai.PulsePal\\\\CombinatorTypeConverter.cs', 'Bonsai.PulsePal', []]\n",
      "ConfigureChannelParameter ['c:\\\\Users\\\\shawn\\\\Desktop\\\\pulsepal_docs_rev\\\\src\\\\Bonsai.PulsePal\\\\ConfigureChannelParameter.cs', 'Bonsai.PulsePal', ['DeviceName', 'Parameter']]\n",
      "ConfigureOutputChannel ['c:\\\\Users\\\\shawn\\\\Desktop\\\\pulsepal_docs_rev\\\\src\\\\Bonsai.PulsePal\\\\ConfigureOutputChannel.cs', 'Bonsai.PulsePal', ['DeviceName']]\n",
      "ConfigureTriggerChannel ['c:\\\\Users\\\\shawn\\\\Desktop\\\\pulsepal_docs_rev\\\\src\\\\Bonsai.PulsePal\\\\ConfigureTriggerChannel.cs', 'Bonsai.PulsePal', ['DeviceName']]\n",
      "CreatePulsePal ['c:\\\\Users\\\\shawn\\\\Desktop\\\\pulsepal_docs_rev\\\\src\\\\Bonsai.PulsePal\\\\CreatePulsePal.cs', 'Bonsai.PulsePal', ['DeviceName', 'PortName', 'OutputChannels', 'TriggerChannels']]\n",
      "CustomPulseTrain ['c:\\\\Users\\\\shawn\\\\Desktop\\\\pulsepal_docs_rev\\\\src\\\\Bonsai.PulsePal\\\\CustomPulseTrain.cs', 'Bonsai.PulsePal', []]\n",
      "CustomTrainId ['c:\\\\Users\\\\shawn\\\\Desktop\\\\pulsepal_docs_rev\\\\src\\\\Bonsai.PulsePal\\\\CustomTrainId.cs', 'Bonsai.PulsePal', ['CustomTrainId']]\n",
      "CustomTrainTarget ['c:\\\\Users\\\\shawn\\\\Desktop\\\\pulsepal_docs_rev\\\\src\\\\Bonsai.PulsePal\\\\CustomTrainTarget.cs', 'Bonsai.PulsePal', ['CustomTrainTarget']]\n",
      "DeviceNameConverter ['c:\\\\Users\\\\shawn\\\\Desktop\\\\pulsepal_docs_rev\\\\src\\\\Bonsai.PulsePal\\\\DeviceNameConverter.cs', 'Bonsai.PulsePal', []]\n",
      "OutputChannel ['c:\\\\Users\\\\shawn\\\\Desktop\\\\pulsepal_docs_rev\\\\src\\\\Bonsai.PulsePal\\\\OutputChannel.cs', 'Bonsai.PulsePal', ['OutputChannel']]\n",
      "ParameterCode ['c:\\\\Users\\\\shawn\\\\Desktop\\\\pulsepal_docs_rev\\\\src\\\\Bonsai.PulsePal\\\\ParameterCode.cs', 'Bonsai.PulsePal', []]\n",
      "PolymorphicCombinator ['c:\\\\Users\\\\shawn\\\\Desktop\\\\pulsepal_docs_rev\\\\src\\\\Bonsai.PulsePal\\\\PolymorphicCombinator.cs', 'Bonsai.PulsePal', ['descr)']]\n",
      "PulseOnset ['c:\\\\Users\\\\shawn\\\\Desktop\\\\pulsepal_docs_rev\\\\src\\\\Bonsai.PulsePal\\\\PulseOnset.cs', 'Bonsai.PulsePal', ['Time', 'Voltage']]\n",
      "PulsePalConfiguration ['c:\\\\Users\\\\shawn\\\\Desktop\\\\pulsepal_docs_rev\\\\src\\\\Bonsai.PulsePal\\\\PulsePalConfiguration.cs', 'Bonsai.PulsePal', ['PortName']]\n",
      "PulsePalDevice ['c:\\\\Users\\\\shawn\\\\Desktop\\\\pulsepal_docs_rev\\\\src\\\\Bonsai.PulsePal\\\\PulsePalDevice.cs', 'Bonsai.PulsePal', ['FirmwareVersion', 'IsOpen', 'pulsePal)']]\n",
      "PulsePalDisposable ['c:\\\\Users\\\\shawn\\\\Desktop\\\\pulsepal_docs_rev\\\\src\\\\Bonsai.PulsePal\\\\PulsePalDisposable.cs', 'Bonsai.PulsePal', ['pulsePal,', 'PulsePal', 'IsDisposed']]\n",
      "PulsePalManager ['c:\\\\Users\\\\shawn\\\\Desktop\\\\pulsepal_docs_rev\\\\src\\\\Bonsai.PulsePal\\\\PulsePalManager.cs', 'Bonsai.PulsePal', []]\n",
      "SendCustomPulseTrain ['c:\\\\Users\\\\shawn\\\\Desktop\\\\pulsepal_docs_rev\\\\src\\\\Bonsai.PulsePal\\\\SendCustomPulseTrain.cs', 'Bonsai.PulsePal', ['DeviceName', 'CustomTrainIdentity']]\n",
      "SendCustomWaveform ['c:\\\\Users\\\\shawn\\\\Desktop\\\\pulsepal_docs_rev\\\\src\\\\Bonsai.PulsePal\\\\SendCustomWaveform.cs', 'Bonsai.PulsePal', ['DeviceName', 'CustomTrainIdentity', 'SamplingPeriod']]\n",
      "SetFixedVoltage ['c:\\\\Users\\\\shawn\\\\Desktop\\\\pulsepal_docs_rev\\\\src\\\\Bonsai.PulsePal\\\\SetFixedVoltage.cs', 'Bonsai.PulsePal', ['DeviceName', 'Channel', 'Voltage']]\n",
      "TriggerChannel ['c:\\\\Users\\\\shawn\\\\Desktop\\\\pulsepal_docs_rev\\\\src\\\\Bonsai.PulsePal\\\\TriggerChannel.cs', 'Bonsai.PulsePal', ['TriggerChannel']]\n",
      "TriggerMode ['c:\\\\Users\\\\shawn\\\\Desktop\\\\pulsepal_docs_rev\\\\src\\\\Bonsai.PulsePal\\\\TriggerMode.cs', 'Bonsai.PulsePal', ['TriggerMode']]\n",
      "TriggerOutputChannels ['c:\\\\Users\\\\shawn\\\\Desktop\\\\pulsepal_docs_rev\\\\src\\\\Bonsai.PulsePal\\\\TriggerOutputChannels.cs', 'Bonsai.PulsePal', ['DeviceName', 'Channels']]\n",
      "UpdateDisplay ['c:\\\\Users\\\\shawn\\\\Desktop\\\\pulsepal_docs_rev\\\\src\\\\Bonsai.PulsePal\\\\UpdateDisplay.cs', 'Bonsai.PulsePal', ['DeviceName']]\n",
      "BiphasicConfiguration ['c:\\\\Users\\\\shawn\\\\Desktop\\\\pulsepal_docs_rev\\\\src\\\\Bonsai.PulsePal\\\\Configuration\\\\BiphasicConfiguration.cs', 'Bonsai.PulsePal', ['Biphasic']]\n",
      "BurstDurationConfiguration ['c:\\\\Users\\\\shawn\\\\Desktop\\\\pulsepal_docs_rev\\\\src\\\\Bonsai.PulsePal\\\\Configuration\\\\BurstDurationConfiguration.cs', 'Bonsai.PulsePal', ['BurstDuration']]\n",
      "ChannelParameterConfiguration ['c:\\\\Users\\\\shawn\\\\Desktop\\\\pulsepal_docs_rev\\\\src\\\\Bonsai.PulsePal\\\\Configuration\\\\ChannelParameterConfiguration.cs', 'Bonsai.PulsePal', []]\n",
      "ContinuousLoopConfiguration ['c:\\\\Users\\\\shawn\\\\Desktop\\\\pulsepal_docs_rev\\\\src\\\\Bonsai.PulsePal\\\\Configuration\\\\ContinuousLoopConfiguration.cs', 'Bonsai.PulsePal', ['ContinuousLoop']]\n",
      "CustomTrainIdentityConfiguration ['c:\\\\Users\\\\shawn\\\\Desktop\\\\pulsepal_docs_rev\\\\src\\\\Bonsai.PulsePal\\\\Configuration\\\\CustomTrainIdentityConfiguration.cs', 'Bonsai.PulsePal', ['CustomTrainIdentity']]\n",
      "CustomTrainLoopConfiguration ['c:\\\\Users\\\\shawn\\\\Desktop\\\\pulsepal_docs_rev\\\\src\\\\Bonsai.PulsePal\\\\Configuration\\\\CustomTrainLoopConfiguration.cs', 'Bonsai.PulsePal', ['CustomTrainLoop']]\n",
      "CustomTrainTargetConfiguration ['c:\\\\Users\\\\shawn\\\\Desktop\\\\pulsepal_docs_rev\\\\src\\\\Bonsai.PulsePal\\\\Configuration\\\\CustomTrainTargetConfiguration.cs', 'Bonsai.PulsePal', ['CustomTrainTarget']]\n",
      "InterBurstIntervalConfiguration ['c:\\\\Users\\\\shawn\\\\Desktop\\\\pulsepal_docs_rev\\\\src\\\\Bonsai.PulsePal\\\\Configuration\\\\InterBurstIntervalConfiguration.cs', 'Bonsai.PulsePal', ['InterBurstInterval']]\n",
      "InterPhaseIntervalConfiguration ['c:\\\\Users\\\\shawn\\\\Desktop\\\\pulsepal_docs_rev\\\\src\\\\Bonsai.PulsePal\\\\Configuration\\\\InterPhaseIntervalConfiguration.cs', 'Bonsai.PulsePal', ['InterPhaseInterval']]\n",
      "InterPulseIntervalConfiguration ['c:\\\\Users\\\\shawn\\\\Desktop\\\\pulsepal_docs_rev\\\\src\\\\Bonsai.PulsePal\\\\Configuration\\\\InterPulseIntervalConfiguration.cs', 'Bonsai.PulsePal', ['InterPulseInterval']]\n",
      "OutputChannelConfiguration ['c:\\\\Users\\\\shawn\\\\Desktop\\\\pulsepal_docs_rev\\\\src\\\\Bonsai.PulsePal\\\\Configuration\\\\OutputChannelConfiguration.cs', 'Bonsai.PulsePal', ['Biphasic', 'Phase1Voltage', 'Phase2Voltage', 'RestingVoltage', 'PulseTrainDelay', 'Phase1Duration', 'InterPhaseInterval', 'Phase2Duration', 'InterPulseInterval', 'BurstDuration', 'InterBurstInterval', 'PulseTrainDuration', 'CustomTrainIdentity', 'CustomTrainTarget', 'CustomTrainLoop', 'TriggerOnChannel1', 'TriggerOnChannel2', 'ContinuousLoop']]\n",
      "OutputChannelConfigurationCollection ['c:\\\\Users\\\\shawn\\\\Desktop\\\\pulsepal_docs_rev\\\\src\\\\Bonsai.PulsePal\\\\Configuration\\\\OutputChannelConfigurationCollection.cs', 'Bonsai.PulsePal', []]\n",
      "OutputChannelParameterConfiguration ['c:\\\\Users\\\\shawn\\\\Desktop\\\\pulsepal_docs_rev\\\\src\\\\Bonsai.PulsePal\\\\Configuration\\\\OutputChannelParameterConfiguration.cs', 'Bonsai.PulsePal', ['Channel']]\n",
      "Phase1DurationConfiguration ['c:\\\\Users\\\\shawn\\\\Desktop\\\\pulsepal_docs_rev\\\\src\\\\Bonsai.PulsePal\\\\Configuration\\\\Phase1DurationConfiguration.cs', 'Bonsai.PulsePal', ['Phase1Duration']]\n",
      "Phase1VoltageConfiguration ['c:\\\\Users\\\\shawn\\\\Desktop\\\\pulsepal_docs_rev\\\\src\\\\Bonsai.PulsePal\\\\Configuration\\\\Phase1VoltageConfiguration.cs', 'Bonsai.PulsePal', ['Phase1Voltage']]\n",
      "Phase2DurationConfiguration ['c:\\\\Users\\\\shawn\\\\Desktop\\\\pulsepal_docs_rev\\\\src\\\\Bonsai.PulsePal\\\\Configuration\\\\Phase2DurationConfiguration.cs', 'Bonsai.PulsePal', ['Phase2Duration']]\n",
      "Phase2VoltageConfiguration ['c:\\\\Users\\\\shawn\\\\Desktop\\\\pulsepal_docs_rev\\\\src\\\\Bonsai.PulsePal\\\\Configuration\\\\Phase2VoltageConfiguration.cs', 'Bonsai.PulsePal', ['Phase2Voltage']]\n",
      "PulseTrainDelayConfiguration ['c:\\\\Users\\\\shawn\\\\Desktop\\\\pulsepal_docs_rev\\\\src\\\\Bonsai.PulsePal\\\\Configuration\\\\PulseTrainDelayConfiguration.cs', 'Bonsai.PulsePal', ['PulseTrainDelay']]\n",
      "PulseTrainDurationConfiguration ['c:\\\\Users\\\\shawn\\\\Desktop\\\\pulsepal_docs_rev\\\\src\\\\Bonsai.PulsePal\\\\Configuration\\\\PulseTrainDurationConfiguration.cs', 'Bonsai.PulsePal', ['PulseTrainDuration']]\n",
      "RestingVoltageConfiguration ['c:\\\\Users\\\\shawn\\\\Desktop\\\\pulsepal_docs_rev\\\\src\\\\Bonsai.PulsePal\\\\Configuration\\\\RestingVoltageConfiguration.cs', 'Bonsai.PulsePal', ['RestingVoltage']]\n",
      "TriggerChannelConfiguration ['c:\\\\Users\\\\shawn\\\\Desktop\\\\pulsepal_docs_rev\\\\src\\\\Bonsai.PulsePal\\\\Configuration\\\\TriggerChannelConfiguration.cs', 'Bonsai.PulsePal', ['TriggerMode']]\n",
      "TriggerChannelConfigurationCollection ['c:\\\\Users\\\\shawn\\\\Desktop\\\\pulsepal_docs_rev\\\\src\\\\Bonsai.PulsePal\\\\Configuration\\\\TriggerChannelConfigurationCollection.cs', 'Bonsai.PulsePal', []]\n",
      "TriggerChannelParameterConfiguration ['c:\\\\Users\\\\shawn\\\\Desktop\\\\pulsepal_docs_rev\\\\src\\\\Bonsai.PulsePal\\\\Configuration\\\\TriggerChannelParameterConfiguration.cs', 'Bonsai.PulsePal', ['Channel']]\n",
      "TriggerModeConfiguration ['c:\\\\Users\\\\shawn\\\\Desktop\\\\pulsepal_docs_rev\\\\src\\\\Bonsai.PulsePal\\\\Configuration\\\\TriggerModeConfiguration.cs', 'Bonsai.PulsePal', ['TriggerMode']]\n",
      "TriggerOnChannel1Configuration ['c:\\\\Users\\\\shawn\\\\Desktop\\\\pulsepal_docs_rev\\\\src\\\\Bonsai.PulsePal\\\\Configuration\\\\TriggerOnChannel1Configuration.cs', 'Bonsai.PulsePal', ['TriggerOnChannel1']]\n",
      "TriggerOnChannel2Configuration ['c:\\\\Users\\\\shawn\\\\Desktop\\\\pulsepal_docs_rev\\\\src\\\\Bonsai.PulsePal\\\\Configuration\\\\TriggerOnChannel2Configuration.cs', 'Bonsai.PulsePal', ['TriggerOnChannel2']]\n"
     ]
    }
   ],
   "source": [
    "for key, value in operator_dictionary.items():\n",
    "    print(key, value)"
   ]
  }
 ],
 "metadata": {
  "kernelspec": {
   "display_name": "base",
   "language": "python",
   "name": "python3"
  },
  "language_info": {
   "codemirror_mode": {
    "name": "ipython",
    "version": 3
   },
   "file_extension": ".py",
   "mimetype": "text/x-python",
   "name": "python",
   "nbconvert_exporter": "python",
   "pygments_lexer": "ipython3",
   "version": "3.11.7"
  }
 },
 "nbformat": 4,
 "nbformat_minor": 2
}
