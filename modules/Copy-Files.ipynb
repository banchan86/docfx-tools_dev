{
 "cells": [
  {
   "cell_type": "code",
   "execution_count": 1,
   "metadata": {},
   "outputs": [],
   "source": [
    "# Although it might be easier to just copy the entire assets directory, the current format allows selective copying \n",
    "# and avoids FileExistsErrors from breaking the entire run\n",
    "# might also want to look into refactoring the regex replacement code as a function since its being used quite often\n",
    "import os\n",
    "import shutil\n",
    "import re"
   ]
  },
  {
   "cell_type": "code",
   "execution_count": 2,
   "metadata": {},
   "outputs": [],
   "source": [
    "# define folder constants\n",
    "current_dir = os.getcwd()\n",
    "assets_dir = os.path.join(os.path.dirname(current_dir), \"assets\")\n",
    "assets_docs_dir = os.path.join(assets_dir, \"docs\")\n",
    "assets_root_dir = os.path.join(assets_dir, \"root\")\n",
    "assets_docs_api_dir = os.path.join(assets_docs_dir, \"api\")\n",
    "assets_workflows_dir = os.path.join(assets_docs_dir, \"workflows\")\n",
    "root_dir = os.path.dirname(os.path.dirname(os.path.dirname(current_dir)))\n",
    "docs_dir = os.path.join(root_dir,\"docs\")\n",
    "docs_api_dir = os.path.join(docs_dir, \"api\")\n",
    "docs_workflows_dir = os.path.join(docs_dir, \"workflows\")\n",
    "docs_articles_dir = os.path.join(docs_dir, \"articles\")\n",
    "docs_images_dir = os.path.join(docs_dir, \"images\")\n",
    "src_dir = os.path.join(root_dir, \"src\")"
   ]
  },
  {
   "cell_type": "code",
   "execution_count": null,
   "metadata": {},
   "outputs": [],
   "source": [
    "# make folders for docfx\n",
    "# try except blocks in case folder already exists\n",
    "try:\n",
    "    os.mkdir(docs_dir)\n",
    "except:\n",
    "    pass\n",
    "\n",
    "try:\n",
    "    os.mkdir(docs_articles_dir)\n",
    "except:\n",
    "    pass\n",
    "\n",
    "try:\n",
    "    os.mkdir(docs_images_dir)\n",
    "except:\n",
    "    pass"
   ]
  },
  {
   "cell_type": "code",
   "execution_count": 5,
   "metadata": {},
   "outputs": [
    {
     "data": {
      "text/plain": [
       "'c:\\\\Users\\\\shawn\\\\.bonsai'"
      ]
     },
     "execution_count": 5,
     "metadata": {},
     "output_type": "execute_result"
    }
   ],
   "source": [
    "# copy root/.bonsai folder for making bonsai env\n",
    "# asset copied from bonsai-rx/gui 4/22/24\n",
    "shutil.copytree(os.path.join(assets_root_dir, \".bonsai\"), os.path.join(root_dir, \".bonsai\"))"
   ]
  },
  {
   "cell_type": "code",
   "execution_count": 6,
   "metadata": {},
   "outputs": [
    {
     "data": {
      "text/plain": [
       "'c:\\\\Users\\\\shawn\\\\.github'"
      ]
     },
     "execution_count": 6,
     "metadata": {},
     "output_type": "execute_result"
    }
   ],
   "source": [
    "# copy root/.github folder for github actions\n",
    "# asset copied from bonsai-rx/gui 4/22/24\n",
    "# to add - automatically search for src sln file\n",
    "shutil.copytree(os.path.join(assets_root_dir, \".github\"),  os.path.join(root_dir, \".github\"))\n",
    "\n",
    "new_package_src_sln = input(\"Please enter the location of the package src sln file e.g src/Bonsai.Gui.sln\")\n",
    "with open(os.path.join(root_dir, \".github\", \"workflows\", \"build.yml\"), 'r') as file:\n",
    "    file_content = file.readlines()\n",
    "    line_position = -1\n",
    "    for line in file_content:\n",
    "        line_position += 1\n",
    "        if \"nuget restore\" in line:\n",
    "            # line replacement is done in 2 steps due to a bug in re.sub not accepting strings without escape characters\n",
    "            new_line =  re.sub(r\"src/[^/]+\\.sln\", \"text_to_replace\", line)\n",
    "            new_line = new_line.replace(\"text_to_replace\", new_package_src_sln)\n",
    "            file_content[line_position] = new_line\n",
    "        elif \"Configuration=Release\" in line:\n",
    "            new_line =  re.sub(r\"src/[^/]+\\.sln\", \"text_to_replace\", line)\n",
    "            new_line = new_line.replace(\"text_to_replace\", new_package_src_sln)\n",
    "            file_content[line_position] = new_line\n",
    "        else:\n",
    "            pass\n",
    "    with open(os.path.join(root_dir, \".github\", \"workflows\", \"build.yml\"), 'w') as new_file:\n",
    "        new_file.writelines(file_content)\n",
    "\n",
    "with open(os.path.join(root_dir, \".github\", \"workflows\", \"docs.yml\"), 'r') as file:\n",
    "    file_content = file.readlines()\n",
    "    line_position = -1\n",
    "    for line in file_content:\n",
    "        line_position += 1\n",
    "        if \"-t:restore\" in line:\n",
    "            # line replacement is done in 2 steps due to a bug in re.sub not accepting strings without escape characters\n",
    "            new_line =  re.sub(r\"src/[^/]+\\.sln\", \"text_to_replace\", line)\n",
    "            new_line = new_line.replace(\"text_to_replace\", new_package_src_sln)\n",
    "            file_content[line_position] = new_line\n",
    "        elif \"Configuration=Release\" in line:\n",
    "            new_line =  re.sub(r\"src/[^/]+\\.sln\", \"text_to_replace\", line)\n",
    "            new_line = new_line.replace(\"text_to_replace\", new_package_src_sln)\n",
    "            file_content[line_position] = new_line\n",
    "        else:\n",
    "            pass\n",
    "    with open(os.path.join(root_dir, \".github\", \"workflows\", \"docs.yml\"), 'w') as new_file:\n",
    "        new_file.writelines(file_content)"
   ]
  },
  {
   "cell_type": "code",
   "execution_count": 4,
   "metadata": {},
   "outputs": [
    {
     "data": {
      "text/plain": [
       "'c:\\\\Users\\\\shawn\\\\docs'"
      ]
     },
     "execution_count": 4,
     "metadata": {},
     "output_type": "execute_result"
    }
   ],
   "source": [
    "# copy docs .gitignore to filter out _site folder\n",
    "# asset copied from bonsai-rx/gui 4/22/24\n",
    "shutil.copy(os.path.join(assets_docs_dir, \".gitignore\"), docs_dir)"
   ]
  },
  {
   "cell_type": "code",
   "execution_count": null,
   "metadata": {},
   "outputs": [],
   "source": [
    "# copy docs favicon and site logo\n",
    "# asset copied from bonsai-rx/gui 4/28/24\n",
    "shutil.copy(os.path.join(assets_docs_dir, \"favicon.ico\"), docs_dir)\n",
    "shutil.copy(os.path.join(assets_docs_dir, \"logo.svg\"), docs_dir)"
   ]
  },
  {
   "cell_type": "code",
   "execution_count": null,
   "metadata": {},
   "outputs": [],
   "source": [
    "# copy docs filter.yml to filter out obsolete attributes\n",
    "# asset copied from bonsai-rx/gui 4/27/24\n",
    "shutil.copy(os.path.join(assets_docs_dir, \"filter.yml\"), docs_dir)\n"
   ]
  },
  {
   "cell_type": "code",
   "execution_count": null,
   "metadata": {},
   "outputs": [],
   "source": [
    "# copy docs/build.ps1 file to export workflow images and modifies script to handle new package\n",
    "# asset copied from bonsai-rx/gui 4/22/24\n",
    "# to add - automatically search for package location \n",
    "\n",
    "shutil.copy(os.path.join(assets_docs_dir, \"build.ps1\"), docs_dir)\n",
    "\n",
    "new_package_src = \"..\\\\\" + input(\"Please enter the location of the package bin e.g src\\Bonsai.Gui.ZedGraph\\bin\\Release\\net472\")\n",
    "with open(os.path.join(docs_dir,\"build.ps1\"), 'r') as file:\n",
    "    file_content = file.readlines()\n",
    "    for line in file_content:\n",
    "        # line replacement is done in 2 steps due to a bug in re.sub not accepting strings without escape characters\n",
    "        new_line =  re.sub(r'\"([^\"]*)\"', '\"text_to_replace\"', line)\n",
    "        new_line = new_line.replace(\"text_to_replace\", new_package_src)\n",
    "        file_content[0] = new_line\n",
    "        with open(os.path.join(docs_dir,\"build.ps1\"), 'w') as new_file:\n",
    "            new_file.writelines(file_content)\n",
    "        break"
   ]
  },
  {
   "cell_type": "code",
   "execution_count": null,
   "metadata": {},
   "outputs": [],
   "source": [
    "# copy docs/workflows folder\n",
    "# asset copied from bonsai-rx/gui 4/23/24\n",
    "shutil.copytree(assets_workflows_dir, docs_workflows_dir)"
   ]
  },
  {
   "cell_type": "code",
   "execution_count": null,
   "metadata": {},
   "outputs": [],
   "source": [
    "# copy docs/api folder and .gitignore file to filter out automatically generated api yml and manifest file\n",
    "# asset copied from bonsai-rx/gui 4/22/24\n",
    "shutil.copytree(assets_docs_api_dir, docs_api_dir)"
   ]
  },
  {
   "cell_type": "code",
   "execution_count": null,
   "metadata": {},
   "outputs": [],
   "source": [
    "# copy docs/template folder\n",
    "# asset copied from bonsai-rx/gui 4/22/24\n",
    "\n",
    "shutil.copytree(os.path.join(assets_docs_dir, \"template\"),  os.path.join(docs_dir, \"template\"))\n",
    "\n",
    "new_package_github = input(\"Please enter the github link for the new package\")\n",
    "with open(os.path.join(docs_dir,\"template\", \"public\", \"main.js\"), 'r') as file:\n",
    "    file_content = file.readlines()\n",
    "    line_position = -1\n",
    "    for line in file_content:\n",
    "        line_position += 1\n",
    "        if \"href\" in line:\n",
    "            # line replacement is done in 2 steps due to a bug in re.sub not accepting strings without escape characters\n",
    "            new_line =  re.sub(r\"'([^']*)'\", \"'text_to_replace'\", line)\n",
    "            new_line = new_line.replace(\"text_to_replace\", new_package_github)\n",
    "            file_content[line_position] = new_line\n",
    "            with open(os.path.join(docs_dir,\"template\", \"public\", \"main.js\"), 'w') as new_file:\n",
    "                new_file.writelines(file_content)\n",
    "            break\n",
    "        else:\n",
    "            pass"
   ]
  }
 ],
 "metadata": {
  "kernelspec": {
   "display_name": "base",
   "language": "python",
   "name": "python3"
  },
  "language_info": {
   "codemirror_mode": {
    "name": "ipython",
    "version": 3
   },
   "file_extension": ".py",
   "mimetype": "text/x-python",
   "name": "python",
   "nbconvert_exporter": "python",
   "pygments_lexer": "ipython3",
   "version": "3.11.7"
  }
 },
 "nbformat": 4,
 "nbformat_minor": 2
}
