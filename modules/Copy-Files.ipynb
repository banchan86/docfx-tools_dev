{
 "cells": [
  {
   "cell_type": "code",
   "execution_count": 14,
   "metadata": {},
   "outputs": [],
   "source": [
    "import os\n",
    "import shutil"
   ]
  },
  {
   "cell_type": "code",
   "execution_count": 11,
   "metadata": {},
   "outputs": [],
   "source": [
    "# define folder constants\n",
    "current_dir = os.getcwd()\n",
    "assets_dir = os.path.join(os.path.dirname(current_dir), \"assets\")\n",
    "assets_docs_dir = os.path.join(assets_dir, \"docs\")\n",
    "assets_root_dir = os.path.join(assets_dir, \"root\")\n",
    "assets_docs_api_dir = os.path.join(assets_docs_dir, \"api\")\n",
    "root_dir = os.path.dirname(os.path.dirname(os.path.dirname(current_dir)))\n",
    "docs_dir = os.path.join(root_dir,\"docs\")\n",
    "docs_api_dir = os.path.join(docs_dir, \"api\")\n",
    "docs_workflows_dir = os.path.join(docs_dir, \"workflows\")\n",
    "docs_articles_dir = os.path.join(docs_dir, \"articles\")\n",
    "src_dir = os.path.join(root_dir, \"src\")"
   ]
  },
  {
   "cell_type": "code",
   "execution_count": 13,
   "metadata": {},
   "outputs": [
    {
     "name": "stdout",
     "output_type": "stream",
     "text": [
      "c:\\Users\\shawn\\Desktop\\docfx-tools_dev\\modules\n",
      "c:\\Users\\shawn\\Desktop\\docfx-tools_dev\\assets\n"
     ]
    }
   ],
   "source": [
    "print(current_dir)\n",
    "print(assets_dir)\n"
   ]
  },
  {
   "cell_type": "code",
   "execution_count": null,
   "metadata": {},
   "outputs": [],
   "source": [
    "# copy docs .gitignore file to filter out _site folder\n",
    "# asset copied from bonsai-rx/gui\n",
    "shutil.copy(os.path.join(assets_docs_dir, \".gitignore\"), docs_dir)"
   ]
  },
  {
   "cell_type": "code",
   "execution_count": null,
   "metadata": {},
   "outputs": [],
   "source": [
    "# copy .bonsai folder for making bonsai env\n",
    "# asset copied from bonsai-rx/gui \n",
    "shutil.copytree(os.path.join(assets_root_dir, \".bonsai\"), os.path.join(root_dir, \".bonsai\"))"
   ]
  },
  {
   "cell_type": "code",
   "execution_count": null,
   "metadata": {},
   "outputs": [],
   "source": [
    "# copy .github folder for github actions\n",
    "# asset copied from bonsai-rx/gui \n",
    "# to add - prompt for package name to modify github actions scripts\n",
    "shutil.copytree(os.path.join(assets_root_dir, \".github\"),  os.path.join(root_dir, \".github\"))"
   ]
  },
  {
   "cell_type": "code",
   "execution_count": null,
   "metadata": {},
   "outputs": [],
   "source": [
    "# copy docs/api .gitignore file to filter out automatically generated api yml and manifest file\n",
    "# asset copied from bonsai-rx/gui \n",
    "shutil.copy(os.path.join(assets_docs_api_dir, \".gitignore\"), docs_api_dir)"
   ]
  },
  {
   "cell_type": "code",
   "execution_count": null,
   "metadata": {},
   "outputs": [],
   "source": [
    "# copy docs/build.ps1 file to export workflow images\n",
    "# asset copied from bonsai-rx/gui \n",
    "# to add - prompt for package name to modify script\n",
    "shutil.copy(os.path.join(assets_docs_dir, \"build.ps1\"), docs_dir)"
   ]
  },
  {
   "cell_type": "code",
   "execution_count": null,
   "metadata": {},
   "outputs": [],
   "source": [
    "# copy docs/template folder\n",
    "# asset copied from bonsai-rx/gui \n",
    "# to add - prompt for package name to modify github link\n",
    "shutil.copytree(os.path.join(assets_docs_dir, \"template\"),  os.path.join(docs_dir, \"template\"))"
   ]
  },
  {
   "cell_type": "code",
   "execution_count": null,
   "metadata": {},
   "outputs": [],
   "source": [
    "# make folders for docfx\n",
    "# try except blocks in case folder alreaady exists\n",
    "try:\n",
    "    os.mkdir(docs_dir)\n",
    "except:\n",
    "    pass\n",
    "\n",
    "try:\n",
    "    os.mkdir(docs_api_dir)\n",
    "except:\n",
    "    pass\n",
    "\n",
    "try:\n",
    "    os.mkdir(docs_workflows_dir)\n",
    "except:\n",
    "    pass\n",
    "\n",
    "try:\n",
    "    os.mkdir(docs_article_dir)\n",
    "except:\n",
    "    pass\n",
    "\n"
   ]
  }
 ],
 "metadata": {
  "kernelspec": {
   "display_name": "base",
   "language": "python",
   "name": "python3"
  },
  "language_info": {
   "codemirror_mode": {
    "name": "ipython",
    "version": 3
   },
   "file_extension": ".py",
   "mimetype": "text/x-python",
   "name": "python",
   "nbconvert_exporter": "python",
   "pygments_lexer": "ipython3",
   "version": "3.11.7"
  }
 },
 "nbformat": 4,
 "nbformat_minor": 2
}
