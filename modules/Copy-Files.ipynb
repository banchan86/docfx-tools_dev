{
 "cells": [
  {
   "cell_type": "code",
   "execution_count": 14,
   "metadata": {},
   "outputs": [],
   "source": [
    "import os\n",
    "import shutil"
   ]
  },
  {
   "cell_type": "code",
   "execution_count": 11,
   "metadata": {},
   "outputs": [],
   "source": [
    "# define folder constants\n",
    "current_dir = os.getcwd()\n",
    "assets_dir = os.path.join(os.path.dirname(current_dir), \"assets\")\n",
    "assets_docs_dir = os.path.join(assets_dir, \"docs\")\n",
    "assets_root_dir = os.path.join(assets_dir, \"root\")\n",
    "assets_docs_api_dir = os.path.join(assets_docs_dir, \"api\")\n",
    "root_dir = os.path.dirname(os.path.dirname(os.path.dirname(current_dir)))\n",
    "docs_dir = os.path.join(root_dir,\"docs\")\n",
    "docs_api_dir = os.path.join(docs_dir, \"api\")\n",
    "src_dir = os.path.join(root_dir, \"src\")"
   ]
  },
  {
   "cell_type": "code",
   "execution_count": 13,
   "metadata": {},
   "outputs": [
    {
     "name": "stdout",
     "output_type": "stream",
     "text": [
      "c:\\Users\\shawn\\Desktop\\docfx-tools_dev\\modules\n",
      "c:\\Users\\shawn\\Desktop\\docfx-tools_dev\\assets\n"
     ]
    }
   ],
   "source": [
    "print(current_dir)\n",
    "print(assets_dir)\n"
   ]
  },
  {
   "cell_type": "code",
   "execution_count": null,
   "metadata": {},
   "outputs": [],
   "source": [
    "# copy docs .gitignore file to filter out _site folder\n",
    "# asset copied from bonsai-rx/gui\n",
    "shutil.copy(os.path.join(assets_docs_dir, \".gitignore\"), docs_dir)"
   ]
  },
  {
   "cell_type": "code",
   "execution_count": null,
   "metadata": {},
   "outputs": [],
   "source": [
    "# copy .bonsai folder for making bonsai env\n",
    "# asset copied from bonsai-rx/gui \n",
    "shutil.copytree(os.path.join(assets_root_dir, \".bonsai\"), os.path.join(root_dir, \".bonsai\"))"
   ]
  },
  {
   "cell_type": "code",
   "execution_count": null,
   "metadata": {},
   "outputs": [],
   "source": [
    "# copy .github/workflow for github actions\n",
    "# asset copied from bonsai-rx/gui \n",
    "shutil.copytree(os.path.join(assets_root_dir, \".github\"),  os.path.join(root_dir, \".github\"))"
   ]
  },
  {
   "cell_type": "code",
   "execution_count": null,
   "metadata": {},
   "outputs": [],
   "source": [
    "# copy docs/api .gitignore file to filter out automatically generated api yml and manifest file\n",
    "# asset copied from bonsai-rx/gui \n",
    "shutil.copy(os.path.join(assets_docs_api_dir, \".gitignore\"), docs_api_dir)"
   ]
  }
 ],
 "metadata": {
  "kernelspec": {
   "display_name": "base",
   "language": "python",
   "name": "python3"
  },
  "language_info": {
   "codemirror_mode": {
    "name": "ipython",
    "version": 3
   },
   "file_extension": ".py",
   "mimetype": "text/x-python",
   "name": "python",
   "nbconvert_exporter": "python",
   "pygments_lexer": "ipython3",
   "version": "3.11.7"
  }
 },
 "nbformat": 4,
 "nbformat_minor": 2
}
