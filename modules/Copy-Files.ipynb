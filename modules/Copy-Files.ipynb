{
 "cells": [
  {
   "cell_type": "code",
   "execution_count": 1,
   "metadata": {},
   "outputs": [],
   "source": [
    "# Although it might be easier to just copy the entire asset directory, the current format allows selective copying \n",
    "# so as to not overwrite existing files (if they exist)\n",
    "import os\n",
    "import shutil"
   ]
  },
  {
   "cell_type": "code",
   "execution_count": 2,
   "metadata": {},
   "outputs": [],
   "source": [
    "# define folder constants\n",
    "current_dir = os.getcwd()\n",
    "assets_dir = os.path.join(os.path.dirname(current_dir), \"assets\")\n",
    "assets_docs_dir = os.path.join(assets_dir, \"docs\")\n",
    "assets_root_dir = os.path.join(assets_dir, \"root\")\n",
    "assets_docs_api_dir = os.path.join(assets_docs_dir, \"api\")\n",
    "assets_workflows_dir = os.path.join(assets_docs_dir, \"workflows\")\n",
    "root_dir = os.path.dirname(os.path.dirname(os.path.dirname(current_dir)))\n",
    "docs_dir = os.path.join(root_dir,\"docs\")\n",
    "docs_api_dir = os.path.join(docs_dir, \"api\")\n",
    "docs_workflows_dir = os.path.join(docs_dir, \"workflows\")\n",
    "docs_articles_dir = os.path.join(docs_dir, \"articles\")\n",
    "docs_images_dir = os.path.join(docs_dir, \"images\")\n",
    "src_dir = os.path.join(root_dir, \"src\")"
   ]
  },
  {
   "cell_type": "code",
   "execution_count": null,
   "metadata": {},
   "outputs": [],
   "source": [
    "# make folders for docfx\n",
    "# try except blocks in case folder already exists\n",
    "try:\n",
    "    os.mkdir(docs_dir)\n",
    "except:\n",
    "    pass\n",
    "\n",
    "try:\n",
    "    os.mkdir(docs_articles_dir)\n",
    "except:\n",
    "    pass\n",
    "\n",
    "try:\n",
    "    os.mkdir(docs_images_dir)\n",
    "except:\n",
    "    pass"
   ]
  },
  {
   "cell_type": "code",
   "execution_count": 5,
   "metadata": {},
   "outputs": [
    {
     "data": {
      "text/plain": [
       "'c:\\\\Users\\\\shawn\\\\.bonsai'"
      ]
     },
     "execution_count": 5,
     "metadata": {},
     "output_type": "execute_result"
    }
   ],
   "source": [
    "# copy root/.bonsai folder for making bonsai env\n",
    "# asset copied from bonsai-rx/gui 4/22/24\n",
    "shutil.copytree(os.path.join(assets_root_dir, \".bonsai\"), os.path.join(root_dir, \".bonsai\"))"
   ]
  },
  {
   "cell_type": "code",
   "execution_count": 6,
   "metadata": {},
   "outputs": [
    {
     "data": {
      "text/plain": [
       "'c:\\\\Users\\\\shawn\\\\.github'"
      ]
     },
     "execution_count": 6,
     "metadata": {},
     "output_type": "execute_result"
    }
   ],
   "source": [
    "# copy root/.github folder for github actions\n",
    "# asset copied from bonsai-rx/gui 4/22/24\n",
    "# to add - prompt for package name to modify github actions scripts\n",
    "shutil.copytree(os.path.join(assets_root_dir, \".github\"),  os.path.join(root_dir, \".github\"))"
   ]
  },
  {
   "cell_type": "code",
   "execution_count": 4,
   "metadata": {},
   "outputs": [
    {
     "data": {
      "text/plain": [
       "'c:\\\\Users\\\\shawn\\\\docs'"
      ]
     },
     "execution_count": 4,
     "metadata": {},
     "output_type": "execute_result"
    }
   ],
   "source": [
    "# copy docs .gitignore to filter out _site folder\n",
    "# asset copied from bonsai-rx/gui 4/22/24\n",
    "shutil.copy(os.path.join(assets_docs_dir, \".gitignore\"), docs_dir)"
   ]
  },
  {
   "cell_type": "code",
   "execution_count": null,
   "metadata": {},
   "outputs": [],
   "source": [
    "# copy docs filter.yml to filter out obsolete attributes\n",
    "# asset copied from bonsai-rx/gui 4/27/24\n",
    "shutil.copy(os.path.join(assets_docs_dir, \"filter.yml\"), docs_dir)\n"
   ]
  },
  {
   "cell_type": "code",
   "execution_count": null,
   "metadata": {},
   "outputs": [],
   "source": [
    "# copy docs/build.ps1 file to export workflow images\n",
    "# asset copied from bonsai-rx/gui 4/22/24\n",
    "# to add - prompt for package name to modify script\n",
    "shutil.copy(os.path.join(assets_docs_dir, \"build.ps1\"), docs_dir)"
   ]
  },
  {
   "cell_type": "code",
   "execution_count": null,
   "metadata": {},
   "outputs": [],
   "source": [
    "# copy docs/workflows folder\n",
    "# asset copied from bonsai-rx/gui 4/23/24\n",
    "shutil.copytree(assets_workflows_dir, docs_workflows_dir)"
   ]
  },
  {
   "cell_type": "code",
   "execution_count": null,
   "metadata": {},
   "outputs": [],
   "source": [
    "# copy docs/api folder and .gitignore file to filter out automatically generated api yml and manifest file\n",
    "# asset copied from bonsai-rx/gui 4/22/24\n",
    "shutil.copytree(assets_docs_api_dir, docs_api_dir)"
   ]
  },
  {
   "cell_type": "code",
   "execution_count": null,
   "metadata": {},
   "outputs": [],
   "source": [
    "# copy docs/template folder\n",
    "# asset copied from bonsai-rx/gui 4/22/24\n",
    "# to add - prompt for package name to modify github link\n",
    "shutil.copytree(os.path.join(assets_docs_dir, \"template\"),  os.path.join(docs_dir, \"template\"))"
   ]
  }
 ],
 "metadata": {
  "kernelspec": {
   "display_name": "base",
   "language": "python",
   "name": "python3"
  },
  "language_info": {
   "codemirror_mode": {
    "name": "ipython",
    "version": 3
   },
   "file_extension": ".py",
   "mimetype": "text/x-python",
   "name": "python",
   "nbconvert_exporter": "python",
   "pygments_lexer": "ipython3",
   "version": "3.11.7"
  }
 },
 "nbformat": 4,
 "nbformat_minor": 2
}
